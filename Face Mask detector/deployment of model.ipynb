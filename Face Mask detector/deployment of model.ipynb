{
 "cells": [
  {
   "cell_type": "code",
   "execution_count": 27,
   "metadata": {},
   "outputs": [],
   "source": [
    "import cv2\n",
    "import os\n",
    "from keras.models import load_model\n",
    "from keras.preprocessing.image import load_img, img_to_array\n",
    "import numpy as np\n",
    "\n",
    "model = load_model('model.h5') # cnn\n",
    " \n",
    "# model accept below hight and width of the image\n",
    "img_width, img_hight = 200, 200\n",
    " "
   ]
  },
  {
   "cell_type": "code",
   "execution_count": 31,
   "metadata": {},
   "outputs": [
    {
     "name": "stdout",
     "output_type": "stream",
     "text": [
      "user not wearing mask - prob =  0.50499433\n",
      "user not wearing mask - prob =  0.753335\n"
     ]
    }
   ],
   "source": [
    "# Load the Cascade face Classifier\n",
    "face_cascade = cv2.CascadeClassifier(\"haarcascade_frontalface_default.xml\")\n",
    "cap = cv2.VideoCapture(0) # for webcam\n",
    "#cap = cv2.VideoCapture('my.mp4') # for video\n",
    " \n",
    "img_count_full = 0\n",
    " \n",
    "#parameters for text\n",
    "# font \n",
    "font = cv2.FONT_HERSHEY_SIMPLEX \n",
    "# org \n",
    "org = (1, 1)\n",
    "class_lable=' '      \n",
    "# fontScale \n",
    "fontScale = 1 #0.5\n",
    "# Blue color in BGR \n",
    "color = (255, 0, 0) \n",
    "# Line thickness of 2 px \n",
    "thickness = 2 #1\n",
    " \n",
    "#sart reading images and prediction\n",
    "while True:\n",
    "    img_count_full += 1\n",
    "     \n",
    "    #read image from webcam\n",
    "    responce, color_img = cap.read()\n",
    "    \n",
    "     \n",
    "    #if respoce False the break the loop\n",
    "    if responce == False:\n",
    "        break    \n",
    "     \n",
    "   \n",
    "    gray_img = cv2.cvtColor(color_img, cv2.COLOR_BGR2GRAY)\n",
    "     \n",
    "    # Detect the faces\n",
    "    faces = face_cascade.detectMultiScale(gray_img, 1.1, 6) # 1.1, 3) for 1.mp4\n",
    "     \n",
    "    #take face then predict class mask or not mask then draw recrangle and text then display image\n",
    "    img_count = 0\n",
    "    for (x, y, w, h) in faces:\n",
    "        org = (x-10,y-10)\n",
          # count the detected faces\n",
    "        img_count +=1 \n",
    "        color_face = color_img[y:y+h,x:x+w] # color face\n",
    "        cv2.imwrite('input/%d%dface.jpg'%(img_count_full,img_count),color_face)\n",
    "        img = load_img('input/%d%dface.jpg'%(img_count_full,img_count), target_size=(img_width,img_hight))\n",
    "         \n",
    "        img = img_to_array(img)/255\n",
    "        img = np.expand_dims(img,axis=0)\n",
    "        pred_prob = model.predict(img)\n",
    "        #print(pred_prob[0][0].round(2))\n",
    "        pred=np.argmax(pred_prob)\n",
    "             \n",
    "        if pred==0:\n",
    "            print(\"User with mask - predic = \",pred_prob[0][0])\n",
    "            class_lable = \"Mask\"\n",
    "            color = (255, 0, 0)\n",
    "            cv2.imwrite('with_mask/%d%dface.jpg'%(img_count_full,img_count),color_face)\n",
    "                  \n",
    "        else:\n",
    "            print('user not wearing mask - prob = ',pred_prob[0][1])\n",
    "            class_lable = \"No Mask\"\n",
    "            color = (0, 255, 0)\n",
    "            cv2.imwrite('without_mask/%d%dface.jpg'%(img_count_full,img_count),color_face)\n",
    "                 \n",
    "        cv2.rectangle(color_img, (x, y), (x+w, y+h), (0, 0, 255), 3)\n",
    "        # Using cv2.putText() method \n",
    "        cv2.putText(color_img, class_lable, org, font,  \n",
    "                                   fontScale, color, thickness, cv2.LINE_AA) \n",
    "     \n",
    "    # display image\n",
    "    cv2.imshow('LIVE face mask detection', color_img)\n",
    "    \n",
    "    if cv2.waitKey(1) & 0xFF == ord('q'):\n",
    "        break\n",
    " \n",
    "# Release the VideoCapture object\n",
    "cap.release()\n",
    "cv2.destroyAllWindows()"
   ]
  },
  {
   "cell_type": "code",
   "execution_count": null,
   "metadata": {},
   "outputs": [],
   "source": []
  }
 ],
 "metadata": {
  "kernelspec": {
   "display_name": "Python 3",
   "language": "python",
   "name": "python3"
  },
  "language_info": {
   "codemirror_mode": {
    "name": "ipython",
    "version": 3
   },
   "file_extension": ".py",
   "mimetype": "text/x-python",
   "name": "python",
   "nbconvert_exporter": "python",
   "pygments_lexer": "ipython3",
   "version": "3.7.6"
  }
 },
 "nbformat": 4,
 "nbformat_minor": 4
}
